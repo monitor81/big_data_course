{
 "cells": [
  {
   "cell_type": "markdown",
   "id": "2da46042",
   "metadata": {},
   "source": [
    "# Задания по изучению команд консоли Unix"
   ]
  },
  {
   "cell_type": "markdown",
   "id": "61d12408",
   "metadata": {},
   "source": [
    "## Команда: ls\n",
    "### Справка:\n",
    "Команда ls отображает список файлов и директорий в указанной папке. Без параметров выводит содержимое текущей директории.\n",
    "\n",
    "- ls -l — выводит подробную информацию о файлах.\n",
    "- ls -lh — выводит подробную информацию в удобочитаемом формате (с размерами файлов в удобных единицах).\n",
    "- ls -a — показывает все файлы, включая скрытые (те, которые начинаются с точки).\n",
    "- ls -i — выводит инодовую информацию (уникальные идентификаторы файлов).\n",
    "\n",
    "### Пример использования:\n",
    "\n",
    "```\n",
    "ls          # Показывает содержимое текущей директории\n",
    "ls -l       # Показывает подробную информацию (права доступа, размер и т.д.)\n",
    "ls -a       # Показывает также скрытые файлы\n",
    "ls /home    # Показывает содержимое директории /home\n",
    "```\n",
    "## Задание 1:\n",
    "\n",
    "В Jupyter Notebook выполните команду для отображения подробного списка всех файлов, включая скрытые, в текущей директории.\n",
    "Затем выполните команду для отображения содержимого директории /tmp.\n",
    "### Правильное решение:\n",
    "В ячейке Jupyter Notebook:\n",
    "\n",
    "```\n",
    "!ls -la      # 1. Показывает подробный список всех файлов (включая скрытые) в текущей директории\n",
    "!ls /tmp     # 2. Показывает содержимое директории /tmp\n",
    "```"
   ]
  },
  {
   "cell_type": "code",
   "execution_count": 1,
   "id": "55a1e3e2",
   "metadata": {},
   "outputs": [
    {
     "name": "stdout",
     "output_type": "stream",
     "text": [
      "total 172\n",
      "drwxrwsr-x 4 jovyan users   4096 Jan 27 13:31  .\n",
      "drwxrwsr-x 4 jovyan users   4096 Jan 27 13:24  ..\n",
      "drwxrwsr-x 8 jovyan users   4096 Jan 27 13:23  .git\n",
      "drwxrwsr-x 2 jovyan users   4096 Jan 27 13:21  .ipynb_checkpoints\n",
      "-rw-rw-r-- 1 jovyan users  47394 Jan 27 13:15 'Task 1. Unix.ipynb'\n",
      "-rw-r--r-- 1 jovyan users 107113 Jan 27 13:31 'Task 2. Terminal.ipynb'\n"
     ]
    }
   ],
   "source": [
    "!ls -la"
   ]
  },
  {
   "cell_type": "code",
   "execution_count": 3,
   "id": "1219bfad-c028-47fa-a234-6b66ffc336d5",
   "metadata": {},
   "outputs": [
    {
     "name": "stdout",
     "output_type": "stream",
     "text": [
      "jovyan\n"
     ]
    }
   ],
   "source": [
    "!whoami"
   ]
  },
  {
   "cell_type": "markdown",
   "id": "b398ca71",
   "metadata": {},
   "source": [
    "## Команда: pwd\n",
    "### Справка:\n",
    "Команда pwd (print working directory) выводит текущую рабочую директорию, в которой вы находитесь.\n",
    "\n",
    "### Пример использования:\n",
    "\n",
    "```\n",
    "pwd         # Показывает полный путь текущей директории\n",
    "``` \n",
    "## Задание 2:\n",
    "Определите текущую рабочую директорию, в которой вы находитесь, и сохраните результат в переменную Python.\n",
    "\n",
    "### Правильное решение:\n",
    "\n",
    "```\n",
    "current_directory = !pwd\n",
    "print(current_directory)\n",
    "```\n"
   ]
  },
  {
   "cell_type": "code",
   "execution_count": 6,
   "id": "aca60c59",
   "metadata": {},
   "outputs": [
    {
     "name": "stdout",
     "output_type": "stream",
     "text": [
      "['/d/AnacondaNotebooks/Bid data in digital economic']\n"
     ]
    }
   ],
   "source": [
    "current_directory = !pwd\n",
    "print(current_directory)"
   ]
  },
  {
   "cell_type": "markdown",
   "id": "1c0b8842",
   "metadata": {},
   "source": [
    "## Команда: cd\n",
    "### Справка:\n",
    "Команда cd (change directory) используется для перехода между директориями.\n",
    "\n",
    "### Пример использования:\n",
    "\n",
    "```\n",
    "cd /home/user   # Переход в директорию /home/user\n",
    "cd ..           # Переход в родительскую директорию\n",
    "cd ~            # Переход в домашнюю директорию\n",
    "```\n",
    "## Задание 3:\n",
    "\n",
    "Перейдите в директорию /tmp.\n",
    "Вернитесь обратно в домашнюю директорию.\n",
    "\n",
    "### Правильное решение:\n",
    "В терминале:\n",
    "\n",
    "```\n",
    "cd /tmp         # Переход в /tmp\n",
    "cd ~            # Возврат в домашнюю директорию\n",
    "```"
   ]
  },
  {
   "cell_type": "code",
   "execution_count": 7,
   "id": "06bdb20c",
   "metadata": {},
   "outputs": [
    {
     "name": "stdout",
     "output_type": "stream",
     "text": [
      "[WinError 2] Не удается найти указанный файл: '/tmp'\n",
      "d:\\AnacondaNotebooks\\Bid data in digital economic\n"
     ]
    }
   ],
   "source": [
    "cd /tmp"
   ]
  },
  {
   "cell_type": "code",
   "execution_count": 8,
   "id": "41e7a47f",
   "metadata": {},
   "outputs": [
    {
     "name": "stdout",
     "output_type": "stream",
     "text": [
      "C:\\Users\\monit\n"
     ]
    }
   ],
   "source": [
    "cd ~"
   ]
  },
  {
   "cell_type": "markdown",
   "id": "27cbb8b3",
   "metadata": {},
   "source": [
    "## Команда: echo\n",
    "### Справка:\n",
    "Команда echo используется для вывода текста в консоль. Она также может записывать текст в файлы и выводить значения переменных.\n",
    "\n",
    "### Пример использования:\n",
    "\n",
    "```\n",
    "echo \"Hello, world!\"           # Вывод текста \"Hello, world!\" в консоль\n",
    "echo $HOME                     # Вывод значения переменной окружения HOME\n",
    "echo \"Hello, Hadoop!\" > file.txt  # Запись текста \"Hello, Hadoop!\" в файл file.txt\n",
    "echo \"New line\" >> file.txt    # Добавление строки \"New line\" в конец файла file.txt\n",
    "``` \n",
    "## Задание 4:\n",
    "\n",
    "Выведите в консоль фразу Big Data is amazing! с помощью команды echo.\n",
    "Создайте файл info.txt и запишите в него фразу I am learning Unix commands.\n",
    "Добавьте к файлу info.txt еще одну строку: echo helps to print text.\n",
    "Выведите содержимое файла info.txt с помощью команды cat.\n",
    "\n",
    "### Правильное решение:\n",
    "В Jupyter Notebook:\n",
    "\n",
    "``` \n",
    "# 1. Вывод текста в консоль\n",
    "!echo \"Big Data is amazing!\"\n",
    "\n",
    "# 2. Запись текста в файл\n",
    "!echo \"I am learning Unix commands\" > info.txt\n",
    "\n",
    "# 3. Добавление строки в файл\n",
    "!echo \"echo helps to print text\" >> info.txt\n",
    "\n",
    "# 4. Проверка содержимого файла\n",
    "!cat info.txt\n",
    "```\n",
    "\n",
    "\n",
    "\n",
    "\n",
    "\n"
   ]
  },
  {
   "cell_type": "code",
   "execution_count": 10,
   "id": "4d45a3ab",
   "metadata": {},
   "outputs": [
    {
     "name": "stdout",
     "output_type": "stream",
     "text": [
      "\"Big Data is amazing!\"\n"
     ]
    }
   ],
   "source": [
    "!echo \"Big Data is amazing!\""
   ]
  },
  {
   "cell_type": "code",
   "execution_count": 11,
   "id": "bf63ebbc",
   "metadata": {},
   "outputs": [],
   "source": [
    "!echo \"I am learning Unix commands\" > info.txt"
   ]
  },
  {
   "cell_type": "code",
   "execution_count": 13,
   "id": "12a555d9",
   "metadata": {},
   "outputs": [],
   "source": [
    "!echo \"echo helps to print text\" >> info.txt"
   ]
  },
  {
   "cell_type": "code",
   "execution_count": 14,
   "id": "77a9ac8b",
   "metadata": {},
   "outputs": [
    {
     "name": "stdout",
     "output_type": "stream",
     "text": [
      "\"I am learning Unix commands\" \n",
      "\"echo helps to print text\" \n"
     ]
    }
   ],
   "source": [
    "!cat info.txt"
   ]
  },
  {
   "cell_type": "markdown",
   "id": "f68f5798",
   "metadata": {},
   "source": [
    "## Команда: cat\n",
    "### Справка:\n",
    "Команда cat (concatenate) используется для просмотра содержимого файла.\n",
    "\n",
    "### Пример использования:\n",
    "\n",
    "```\n",
    "cat file.txt    # Показывает содержимое файла file.txt\n",
    "```\n",
    "## Задание 5:\n",
    "\n",
    "Создайте файл с именем example.txt, содержащий текст Hello, Hadoop!.\n",
    "Выведите содержимое файла с помощью команды cat.\n",
    "\n",
    "### Правильное решение:\n",
    "В Jupyter Notebook:\n",
    "\n",
    "```\n",
    "!echo \"Hello, Hadoop!\" > example.txt\n",
    "!cat example.txt\n",
    "```"
   ]
  },
  {
   "cell_type": "code",
   "execution_count": 15,
   "id": "90dc15a0",
   "metadata": {},
   "outputs": [],
   "source": [
    "!echo \"Hello, Hadoop!\" > example.txt"
   ]
  },
  {
   "cell_type": "code",
   "execution_count": 16,
   "id": "dc443ff3",
   "metadata": {},
   "outputs": [
    {
     "name": "stdout",
     "output_type": "stream",
     "text": [
      "\"Hello, Hadoop!\" \n"
     ]
    }
   ],
   "source": [
    "!cat example.txt"
   ]
  },
  {
   "cell_type": "markdown",
   "id": "89e8ad88",
   "metadata": {},
   "source": [
    "## Команда: grep\n",
    "### Справка:\n",
    "Команда grep используется для поиска строк в файлах, которые содержат заданный шаблон.\n",
    "\n",
    "### Пример использования:\n",
    "\n",
    "```\n",
    "grep \"Hadoop\" example.txt    # Находит строки, содержащие слово \"Hadoop\"\n",
    "```\n",
    "## Задание 6:\n",
    "\n",
    "Найдите строку, содержащую слово Unix, в файле info.txt.\n",
    "\n",
    "### Правильное решение:\n",
    "\n",
    "```\n",
    "!grep \"Unix\" info.txt\n",
    "```"
   ]
  },
  {
   "cell_type": "code",
   "execution_count": 17,
   "id": "27f539a5",
   "metadata": {},
   "outputs": [
    {
     "name": "stdout",
     "output_type": "stream",
     "text": [
      "\"I am learning Unix commands\" \n"
     ]
    }
   ],
   "source": [
    "!grep \"Unix\" info.txt"
   ]
  },
  {
   "cell_type": "markdown",
   "id": "5e1537da",
   "metadata": {},
   "source": [
    "## Команда: head и tail\n",
    "### Справка:\n",
    "Команды head и tail выводят первые или последние строки файла.\n",
    "\n",
    "### Пример использования:\n",
    "\n",
    "```\n",
    "head -n 5 file.txt   # Первые 5 строк файла\n",
    "tail -n 5 file.txt   # Последние 5 строк файла\n",
    "```\n",
    "\n",
    "## Задание 7:\n",
    "\n",
    "Создайте файл data.txt, содержащий числа от 1 до 10 (по одному числу на строку).\n",
    "Выведите первые 3 строки файла с помощью head.\n",
    "Выведите последние 3 строки файла с помощью tail.\n",
    "### Правильное решение:\n",
    "\n",
    "```\n",
    "!echo -e \"1\\n2\\n3\\n4\\n5\\n6\\n7\\n8\\n9\\n10\" > data.txt или !printf \"1\\n2\\n3\\n4\\n5\\n6\\n7\\n8\\n9\\n10\\n\" > data.txt\n",
    "!head -n 3 data.txt\n",
    "!tail -n 3 data.txt\n",
    "```"
   ]
  },
  {
   "cell_type": "code",
   "execution_count": 21,
   "id": "907de462",
   "metadata": {},
   "outputs": [],
   "source": [
    "!echo -e \"1\\n2\\n3\\n4\\n5\\n6\\n7\\n8\\n9\\n10\" > data.txt\n"
   ]
  },
  {
   "cell_type": "code",
   "execution_count": 22,
   "id": "ec32bc4a",
   "metadata": {},
   "outputs": [
    {
     "name": "stdout",
     "output_type": "stream",
     "text": [
      "-e \"1\\n2\\n3\\n4\\n5\\n6\\n7\\n8\\n9\\n10\" \n"
     ]
    }
   ],
   "source": [
    "!head -n 3 data.txt"
   ]
  },
  {
   "cell_type": "code",
   "execution_count": 23,
   "id": "080e2548",
   "metadata": {},
   "outputs": [],
   "source": [
    "!printf \"1\\n2\\n3\\n4\\n5\\n6\\n7\\n8\\n9\\n10\\n\" > data.txt"
   ]
  },
  {
   "cell_type": "code",
   "execution_count": 24,
   "id": "eb69c105",
   "metadata": {},
   "outputs": [
    {
     "name": "stdout",
     "output_type": "stream",
     "text": [
      "1\n",
      "2\n",
      "3\n"
     ]
    }
   ],
   "source": [
    "!head -n 3 data.txt"
   ]
  },
  {
   "cell_type": "code",
   "execution_count": 25,
   "id": "da9b6746",
   "metadata": {},
   "outputs": [
    {
     "name": "stdout",
     "output_type": "stream",
     "text": [
      "8\n",
      "9\n",
      "10\n"
     ]
    }
   ],
   "source": [
    "!tail -n 3 data.txt"
   ]
  },
  {
   "cell_type": "markdown",
   "id": "f464f138",
   "metadata": {},
   "source": [
    "## Команда: mkdir\n",
    "### Справка:\n",
    "Команда mkdir (make directory) используется для создания одной или нескольких новых директорий. С флагом -p можно создавать вложенные директории (иерархии) за одну команду.\n",
    "\n",
    "### Пример использования:\n",
    "\n",
    "```\n",
    "mkdir new_folder                # Создает папку new_folder в текущей директории\n",
    "mkdir -p project/data/logs      # Создает вложенную структуру: project → data → logs\n",
    "```\n",
    "\n",
    "## Задание 8: Создание одной папки\n",
    "Создайте папку с именем project в текущей директории.\n",
    "Убедитесь, что папка успешно создана.\n",
    "### Правильное решение:\n",
    "В Jupyter Notebook:\n",
    "\n",
    "\n",
    "```# 1. Создание папки\n",
    "!mkdir project\n",
    "\n",
    "\n",
    "# 2. Проверка содержимого текущей директории\n",
    "!ls\n",
    "```\n",
    "\n"
   ]
  },
  {
   "cell_type": "code",
   "execution_count": 28,
   "id": "fbe3067d",
   "metadata": {},
   "outputs": [
    {
     "name": "stderr",
     "output_type": "stream",
     "text": [
      "Подпапка или файл project уже существует.\n"
     ]
    }
   ],
   "source": [
    "!mkdir project"
   ]
  },
  {
   "cell_type": "code",
   "execution_count": 30,
   "id": "35786a3e",
   "metadata": {},
   "outputs": [
    {
     "name": "stdout",
     "output_type": "stream",
     "text": [
      "6.pdf\n",
      "AI_2023\n",
      "AppData\n",
      "Application Data\n",
      "Codespan\n",
      "Contacts\n",
      "Cookies\n",
      "Documents\n",
      "Downloads\n",
      "Favorites\n",
      "Links\n",
      "Local Settings\n",
      "Music\n",
      "NTUSER.DAT\n",
      "NTUSER.DAT{4b155a0f-be2a-11ed-b44d-ec1e12dd5e4f}.TM.blf\n",
      "NTUSER.DAT{4b155a0f-be2a-11ed-b44d-ec1e12dd5e4f}.TMContainer00000000000000000001.regtrans-ms\n",
      "NTUSER.DAT{4b155a0f-be2a-11ed-b44d-ec1e12dd5e4f}.TMContainer00000000000000000002.regtrans-ms\n",
      "NetHood\n",
      "OneDrive\n",
      "PCManger\n",
      "Pictures\n",
      "Postman\n",
      "PrintHood\n",
      "PycharmProjects\n",
      "Recent\n",
      "Saved Games\n",
      "Searches\n",
      "SendTo\n",
      "Untitled-1.py\n",
      "Untitled.ipynb\n",
      "Videos\n",
      "YandexDisk\n",
      "anaconda3\n",
      "data.txt\n",
      "example.txt\n",
      "info.txt\n",
      "miniconda3\n",
      "ntuser.dat.LOG1\n",
      "ntuser.dat.LOG2\n",
      "ntuser.ini\n",
      "project\n",
      "scikit_learn_data\n",
      "tensorflow_datasets\n",
      "welcome-to-docker\n",
      "РњРѕРё РґРѕРєСѓРјРµРЅС‚С‹\n",
      "РЁР°Р±Р»РѕРЅС‹\n",
      "РіР»Р°РІРЅРѕРµ РјРµРЅСЋ\n"
     ]
    }
   ],
   "source": [
    "!ls"
   ]
  },
  {
   "cell_type": "markdown",
   "id": "adfe6d3a",
   "metadata": {},
   "source": [
    "## Задание 9: Создание иерархии папок\n",
    "Создайте иерархию папок project/data/raw за одну команду.\n",
    "Проверьте, что все три уровня директорий успешно созданы.\n",
    "\n",
    "### Правильное решение:\n",
    "В Jupyter Notebook:\n",
    "\n",
    "```\n",
    "# 1. Создание иерархии\n",
    "!mkdir -p project/data/raw   или для Windows !mkdir project\\data\\raw\n",
    "\n",
    "\n",
    "# 2. Проверка содержимого папки project\n",
    "!ls project\n",
    "!ls project/data\n",
    "```\n"
   ]
  },
  {
   "cell_type": "code",
   "execution_count": 35,
   "id": "9e1ae988",
   "metadata": {},
   "outputs": [],
   "source": [
    "!mkdir project\\data\\raw\n"
   ]
  },
  {
   "cell_type": "code",
   "execution_count": 36,
   "id": "2a69a84e",
   "metadata": {},
   "outputs": [
    {
     "name": "stdout",
     "output_type": "stream",
     "text": [
      "data\n"
     ]
    }
   ],
   "source": [
    "!ls project"
   ]
  },
  {
   "cell_type": "code",
   "execution_count": 37,
   "id": "47e5c105",
   "metadata": {},
   "outputs": [
    {
     "name": "stdout",
     "output_type": "stream",
     "text": [
      "raw\n"
     ]
    }
   ],
   "source": [
    "!ls project/data"
   ]
  },
  {
   "cell_type": "markdown",
   "id": "aab54447",
   "metadata": {},
   "source": [
    "## Задание 10: Создание нескольких папок\n",
    "Создайте в папке project три папки: scripts, configs и logs.\n",
    "Убедитесь, что все папки созданы.\n",
    "### Правильное решение:\n",
    "В Jupyter Notebook:\n",
    "\n",
    "```\n",
    "# 1. Создание нескольких папок\n",
    "!mkdir project/scripts project/configs project/logs или для Windows !mkdir project\\scripts project\\configs project\\logs\n",
    "\n",
    "# 2. Проверка содержимого папки project\n",
    "!ls project\n",
    "```\n",
    "\n"
   ]
  },
  {
   "cell_type": "code",
   "execution_count": 38,
   "id": "f4c33d6a",
   "metadata": {},
   "outputs": [],
   "source": [
    "!mkdir project\\scripts project\\configs project\\logs"
   ]
  },
  {
   "cell_type": "code",
   "execution_count": 39,
   "id": "d674ba4e",
   "metadata": {},
   "outputs": [
    {
     "name": "stdout",
     "output_type": "stream",
     "text": [
      "configs\n",
      "data\n",
      "logs\n",
      "scripts\n"
     ]
    }
   ],
   "source": [
    "!ls project"
   ]
  },
  {
   "cell_type": "markdown",
   "id": "65428f4b",
   "metadata": {},
   "source": [
    "## Задание 11: Создание сложной структуры\n",
    "Создайте иерархию папок:\n",
    "- project\n",
    "  - src\n",
    "     - main\n",
    "     - test\n",
    "  - docs\n",
    "\n",
    "Убедитесь, что все уровни структуры созданы.\n",
    "Если в папке находятся другие (не по заданию папки), то их нужно удалить. \n",
    "\n",
    "### Правильное решение:\n",
    "В Jupyter Notebook:\n",
    "\n",
    "```\n",
    "# 1. Создание сложной иерархии\n",
    "!mkdir -p project/src/main project/src/test project/docs\n",
    "\n",
    "# 2. Проверка содержимого папки project\n",
    "!ls project\n",
    "!ls project/src\n",
    "```\n"
   ]
  },
  {
   "cell_type": "code",
   "execution_count": 40,
   "id": "8a219406",
   "metadata": {},
   "outputs": [],
   "source": [
    "!mkdir -p project\\src\\main project\\src\\test project\\docs"
   ]
  },
  {
   "cell_type": "code",
   "execution_count": 41,
   "id": "3a85b16c",
   "metadata": {},
   "outputs": [
    {
     "name": "stdout",
     "output_type": "stream",
     "text": [
      "configs\n",
      "data\n",
      "docs\n",
      "logs\n",
      "scripts\n",
      "src\n"
     ]
    }
   ],
   "source": [
    "!ls project"
   ]
  },
  {
   "cell_type": "code",
   "execution_count": 43,
   "id": "252c94f8",
   "metadata": {},
   "outputs": [
    {
     "name": "stdout",
     "output_type": "stream",
     "text": [
      "main\n",
      "test\n"
     ]
    }
   ],
   "source": [
    "!ls project/src"
   ]
  },
  {
   "cell_type": "markdown",
   "id": "fcd69c32",
   "metadata": {},
   "source": [
    "## Команда: rmdir\n",
    "### Справка:\n",
    "Команда rmdir используется для удаления пустых директорий. Она удаляет только те папки, которые не содержат файлов или других папок.\n",
    "\n",
    "### Пример использования:\n",
    "\n",
    "```\n",
    "rmdir folder_name          # Удаляет пустую папку folder_name\n",
    "```\n",
    "## Задание 12: Удаление пустой папки\n",
    "Создайте пустую папку с именем empty_folder.\n",
    "Удалите папку empty_folder с помощью команды rmdir.\n",
    "Убедитесь, что папка была удалена.\n",
    "### Правильное решение:\n",
    "```\n",
    "Копировать код\n",
    "# 1. Создание пустой папки\n",
    "!mkdir empty_folder\n",
    "\n",
    "# 2. Удаление пустой папки\n",
    "!rmdir empty_folder\n",
    "\n",
    "# 3. Проверка, что папка удалена\n",
    "!ls\n",
    "```\n"
   ]
  },
  {
   "cell_type": "code",
   "execution_count": 44,
   "id": "05e06dde",
   "metadata": {},
   "outputs": [],
   "source": [
    "!mkdir empty_folder"
   ]
  },
  {
   "cell_type": "code",
   "execution_count": 45,
   "id": "262f0c36",
   "metadata": {},
   "outputs": [],
   "source": [
    "!rmdir empty_folder"
   ]
  },
  {
   "cell_type": "code",
   "execution_count": 46,
   "id": "a2a285e2",
   "metadata": {},
   "outputs": [
    {
     "name": "stdout",
     "output_type": "stream",
     "text": [
      "-p\n",
      "6.pdf\n",
      "AI_2023\n",
      "AppData\n",
      "Application Data\n",
      "Codespan\n",
      "Contacts\n",
      "Cookies\n",
      "Documents\n",
      "Downloads\n",
      "Favorites\n",
      "Links\n",
      "Local Settings\n",
      "Music\n",
      "NTUSER.DAT\n",
      "NTUSER.DAT{4b155a0f-be2a-11ed-b44d-ec1e12dd5e4f}.TM.blf\n",
      "NTUSER.DAT{4b155a0f-be2a-11ed-b44d-ec1e12dd5e4f}.TMContainer00000000000000000001.regtrans-ms\n",
      "NTUSER.DAT{4b155a0f-be2a-11ed-b44d-ec1e12dd5e4f}.TMContainer00000000000000000002.regtrans-ms\n",
      "NetHood\n",
      "OneDrive\n",
      "PCManger\n",
      "Pictures\n",
      "Postman\n",
      "PrintHood\n",
      "PycharmProjects\n",
      "Recent\n",
      "Saved Games\n",
      "Searches\n",
      "SendTo\n",
      "Untitled-1.py\n",
      "Untitled.ipynb\n",
      "Videos\n",
      "YandexDisk\n",
      "anaconda3\n",
      "data.txt\n",
      "example.txt\n",
      "info.txt\n",
      "miniconda3\n",
      "ntuser.dat.LOG1\n",
      "ntuser.dat.LOG2\n",
      "ntuser.ini\n",
      "project\n",
      "scikit_learn_data\n",
      "tensorflow_datasets\n",
      "welcome-to-docker\n",
      "РњРѕРё РґРѕРєСѓРјРµРЅС‚С‹\n",
      "РЁР°Р±Р»РѕРЅС‹\n",
      "РіР»Р°РІРЅРѕРµ РјРµРЅСЋ\n"
     ]
    }
   ],
   "source": [
    "!ls"
   ]
  },
  {
   "cell_type": "markdown",
   "id": "2c7e4576",
   "metadata": {},
   "source": [
    "## Команда: rm -r\n",
    "### Справка:\n",
    "Команда rm -r используется для рекурсивного удаления директорий, включая все файлы и подпапки внутри них. Это мощная команда, будьте осторожны при ее использовании.\n",
    "\n",
    "### Пример использования:\n",
    "\n",
    "```\n",
    "rm -r folder_name            # Удаляет папку folder_name и все её содержимое\n",
    "```\n",
    "## Задание 13: Удаление непустой папки\n",
    "Создайте папку с именем data_folder и добавьте в нее несколько файлов (например, file1.txt и file2.txt).\n",
    "Удалите папку data_folder и все её содержимое с помощью команды rm -r.\n",
    "Убедитесь, что папка была удалена, и в текущей директории нет её содержимого.\n",
    "### Правильное решение:\n",
    "В Jupyter Notebook:\n",
    "```\n",
    "# 1. Создание папки и файлов внутри неё\n",
    "!mkdir data_folder\n",
    "!echo \"File 1\" > data_folder/file1.txt\n",
    "!echo \"File 2\" > data_folder/file2.txt\n",
    "\n",
    "# 2. Удаление папки и её содержимого\n",
    "!rm -r data_folder\n",
    "\n",
    "# 3. Проверка, что папка удалена\n",
    "!ls\n",
    "```\n"
   ]
  },
  {
   "cell_type": "code",
   "execution_count": 47,
   "id": "37766cac",
   "metadata": {},
   "outputs": [],
   "source": [
    "!mkdir data_folder\n",
    "!echo \"File 1\" > data_folder/file1.txt\n",
    "!echo \"File 2\" > data_folder/file2.txt"
   ]
  },
  {
   "cell_type": "code",
   "execution_count": 48,
   "id": "d837af8b",
   "metadata": {},
   "outputs": [],
   "source": [
    "!rm -r data_folder"
   ]
  },
  {
   "cell_type": "code",
   "execution_count": 49,
   "id": "95289ce7",
   "metadata": {},
   "outputs": [
    {
     "name": "stdout",
     "output_type": "stream",
     "text": [
      "-p\n",
      "6.pdf\n",
      "AI_2023\n",
      "AppData\n",
      "Application Data\n",
      "Codespan\n",
      "Contacts\n",
      "Cookies\n",
      "Documents\n",
      "Downloads\n",
      "Favorites\n",
      "Links\n",
      "Local Settings\n",
      "Music\n",
      "NTUSER.DAT\n",
      "NTUSER.DAT{4b155a0f-be2a-11ed-b44d-ec1e12dd5e4f}.TM.blf\n",
      "NTUSER.DAT{4b155a0f-be2a-11ed-b44d-ec1e12dd5e4f}.TMContainer00000000000000000001.regtrans-ms\n",
      "NTUSER.DAT{4b155a0f-be2a-11ed-b44d-ec1e12dd5e4f}.TMContainer00000000000000000002.regtrans-ms\n",
      "NetHood\n",
      "OneDrive\n",
      "PCManger\n",
      "Pictures\n",
      "Postman\n",
      "PrintHood\n",
      "PycharmProjects\n",
      "Recent\n",
      "Saved Games\n",
      "Searches\n",
      "SendTo\n",
      "Untitled-1.py\n",
      "Untitled.ipynb\n",
      "Videos\n",
      "YandexDisk\n",
      "anaconda3\n",
      "data.txt\n",
      "example.txt\n",
      "info.txt\n",
      "miniconda3\n",
      "ntuser.dat.LOG1\n",
      "ntuser.dat.LOG2\n",
      "ntuser.ini\n",
      "project\n",
      "scikit_learn_data\n",
      "tensorflow_datasets\n",
      "welcome-to-docker\n",
      "РњРѕРё РґРѕРєСѓРјРµРЅС‚С‹\n",
      "РЁР°Р±Р»РѕРЅС‹\n",
      "РіР»Р°РІРЅРѕРµ РјРµРЅСЋ\n"
     ]
    }
   ],
   "source": [
    "!ls"
   ]
  },
  {
   "cell_type": "markdown",
   "id": "9ee06afb",
   "metadata": {},
   "source": [
    "## Задание 14: Удаление нескольких папок\n",
    "Создайте три папки: folder1, folder2 и folder3.\n",
    "Удалите все три папки с помощью команды rm -r.\n",
    "Убедитесь, что все три папки были удалены.\n",
    "### Правильное решение:\n",
    "В Jupyter Notebook:\n",
    "\n",
    "```\n",
    "# 1. Создание нескольких папок\n",
    "!mkdir folder1 folder2 folder3\n",
    "\n",
    "# 2. Удаление нескольких папок\n",
    "!rm -r folder1 folder2 folder3\n",
    "\n",
    "# 3. Проверка, что папки удалены\n",
    "!ls\n",
    "```\n"
   ]
  },
  {
   "cell_type": "code",
   "execution_count": 50,
   "id": "d63b7e09",
   "metadata": {},
   "outputs": [],
   "source": [
    "!mkdir folder1 folder2 folder3"
   ]
  },
  {
   "cell_type": "code",
   "execution_count": 51,
   "id": "7790af23",
   "metadata": {},
   "outputs": [],
   "source": [
    "!rm -r folder1 folder2 folder3"
   ]
  },
  {
   "cell_type": "code",
   "execution_count": 52,
   "id": "769ea544",
   "metadata": {},
   "outputs": [
    {
     "name": "stdout",
     "output_type": "stream",
     "text": [
      "-p\n",
      "6.pdf\n",
      "AI_2023\n",
      "AppData\n",
      "Application Data\n",
      "Codespan\n",
      "Contacts\n",
      "Cookies\n",
      "Documents\n",
      "Downloads\n",
      "Favorites\n",
      "Links\n",
      "Local Settings\n",
      "Music\n",
      "NTUSER.DAT\n",
      "NTUSER.DAT{4b155a0f-be2a-11ed-b44d-ec1e12dd5e4f}.TM.blf\n",
      "NTUSER.DAT{4b155a0f-be2a-11ed-b44d-ec1e12dd5e4f}.TMContainer00000000000000000001.regtrans-ms\n",
      "NTUSER.DAT{4b155a0f-be2a-11ed-b44d-ec1e12dd5e4f}.TMContainer00000000000000000002.regtrans-ms\n",
      "NetHood\n",
      "OneDrive\n",
      "PCManger\n",
      "Pictures\n",
      "Postman\n",
      "PrintHood\n",
      "PycharmProjects\n",
      "Recent\n",
      "Saved Games\n",
      "Searches\n",
      "SendTo\n",
      "Untitled-1.py\n",
      "Untitled.ipynb\n",
      "Videos\n",
      "YandexDisk\n",
      "anaconda3\n",
      "data.txt\n",
      "example.txt\n",
      "info.txt\n",
      "miniconda3\n",
      "ntuser.dat.LOG1\n",
      "ntuser.dat.LOG2\n",
      "ntuser.ini\n",
      "project\n",
      "scikit_learn_data\n",
      "tensorflow_datasets\n",
      "welcome-to-docker\n",
      "РњРѕРё РґРѕРєСѓРјРµРЅС‚С‹\n",
      "РЁР°Р±Р»РѕРЅС‹\n",
      "РіР»Р°РІРЅРѕРµ РјРµРЅСЋ\n"
     ]
    }
   ],
   "source": [
    "!ls"
   ]
  },
  {
   "cell_type": "markdown",
   "id": "52ddfb28",
   "metadata": {},
   "source": [
    "## Команда: cp\n",
    "### Справка:\n",
    "Команда cp используется для копирования файлов и директорий.\n",
    "\n",
    "### Пример использования:\n",
    "\n",
    "```\n",
    "cp source.txt destination.txt      # Копирует файл source.txt в destination.txt\n",
    "cp -r folder1 folder2              # Копирует папку folder1 и ее содержимое в папку folder2\n",
    "cp file.txt /path/to/directory/    # Копирует файл file.txt в указанную директорию\n",
    "```\n",
    "## Задание 15:\n",
    "\n",
    "Создайте файл example.txt в текущей директории и запишите в него текст Data transfer is easy!.\n",
    "Создайте новую папку backup.\n",
    "Скопируйте файл example.txt в папку backup.\n",
    "Убедитесь, что файл находится в папке backup.\n",
    "### Правильное решение:\n",
    "В Jupyter Notebook:\n",
    "\n",
    "```\n",
    "# 1. Создание файла\n",
    "!echo \"Data transfer is easy!\" > example.txt\n",
    "\n",
    "# 2. Создание папки\n",
    "!mkdir backup\n",
    "\n",
    "# 3. Копирование файла в папку\n",
    "!cp example.txt backup/\n",
    "\n",
    "# 4. Проверка содержимого папки\n",
    "!ls backup\n",
    "```\n",
    "\n"
   ]
  },
  {
   "cell_type": "code",
   "execution_count": 53,
   "id": "38ad9a68",
   "metadata": {},
   "outputs": [],
   "source": [
    "!echo \"Data transfer is easy!\" > example.txt"
   ]
  },
  {
   "cell_type": "code",
   "execution_count": 54,
   "id": "4b05b5d9",
   "metadata": {},
   "outputs": [],
   "source": [
    "!mkdir backup"
   ]
  },
  {
   "cell_type": "code",
   "execution_count": 55,
   "id": "16943605",
   "metadata": {},
   "outputs": [],
   "source": [
    "!cp example.txt backup"
   ]
  },
  {
   "cell_type": "code",
   "execution_count": 56,
   "id": "b829289a",
   "metadata": {},
   "outputs": [
    {
     "name": "stdout",
     "output_type": "stream",
     "text": [
      "example.txt\n"
     ]
    }
   ],
   "source": [
    "!ls backup"
   ]
  },
  {
   "cell_type": "markdown",
   "id": "c445472c",
   "metadata": {},
   "source": [
    "## Команда: mv\n",
    "### Справка:\n",
    "Команда mv используется для перемещения файлов или переименования.\n",
    "\n",
    "### Пример использования:\n",
    "\n",
    "```\n",
    "mv source.txt destination.txt      # Перемещает файл и/или переименовывает его\n",
    "mv file.txt /path/to/directory/    # Перемещает файл в указанную директорию\n",
    "mv folder1 /path/to/folder2/       # Перемещает папку folder1 в папку folder2\n",
    "```\n",
    "## Задание 16:\n",
    "\n",
    "Создайте файл log.txt в текущей директории и запишите в него текст Log file for testing.\n",
    "Создайте новую папку logs.\n",
    "Переместите файл log.txt в папку logs.\n",
    "Убедитесь, что файл больше не находится в текущей директории, но есть в папке logs.\n",
    "### Правильное решение:\n",
    "В Jupyter Notebook:\n",
    "\n",
    "```\n",
    "# 1. Создание файла\n",
    "!echo \"Log file for testing\" > log.txt\n",
    "\n",
    "# 2. Создание папки\n",
    "!mkdir logs\n",
    "\n",
    "# 3. Перемещение файла в папку\n",
    "!mv log.txt logs/\n",
    "\n",
    "# 4. Проверка, что файл перемещен\n",
    "!ls        # Проверяем, что файла log.txt нет в текущей директории\n",
    "!ls logs   # Проверяем, что файл log.txt находится в папке logs\n",
    "```"
   ]
  },
  {
   "cell_type": "code",
   "execution_count": 57,
   "id": "44fe406b",
   "metadata": {},
   "outputs": [],
   "source": [
    "!echo \"Log file for testing\" > log.txt"
   ]
  },
  {
   "cell_type": "code",
   "execution_count": 58,
   "id": "2dee4ad2",
   "metadata": {},
   "outputs": [],
   "source": [
    "!mkdir logs"
   ]
  },
  {
   "cell_type": "code",
   "execution_count": 59,
   "id": "59e5ab3c",
   "metadata": {},
   "outputs": [],
   "source": [
    "!mv log.txt logs/"
   ]
  },
  {
   "cell_type": "code",
   "execution_count": 60,
   "id": "b4d51d1c",
   "metadata": {},
   "outputs": [
    {
     "name": "stdout",
     "output_type": "stream",
     "text": [
      "-p\n",
      "6.pdf\n",
      "AI_2023\n",
      "AppData\n",
      "Application Data\n",
      "Codespan\n",
      "Contacts\n",
      "Cookies\n",
      "Documents\n",
      "Downloads\n",
      "Favorites\n",
      "Links\n",
      "Local Settings\n",
      "Music\n",
      "NTUSER.DAT\n",
      "NTUSER.DAT{4b155a0f-be2a-11ed-b44d-ec1e12dd5e4f}.TM.blf\n",
      "NTUSER.DAT{4b155a0f-be2a-11ed-b44d-ec1e12dd5e4f}.TMContainer00000000000000000001.regtrans-ms\n",
      "NTUSER.DAT{4b155a0f-be2a-11ed-b44d-ec1e12dd5e4f}.TMContainer00000000000000000002.regtrans-ms\n",
      "NetHood\n",
      "OneDrive\n",
      "PCManger\n",
      "Pictures\n",
      "Postman\n",
      "PrintHood\n",
      "PycharmProjects\n",
      "Recent\n",
      "Saved Games\n",
      "Searches\n",
      "SendTo\n",
      "Untitled-1.py\n",
      "Untitled.ipynb\n",
      "Videos\n",
      "YandexDisk\n",
      "anaconda3\n",
      "backup\n",
      "data.txt\n",
      "example.txt\n",
      "info.txt\n",
      "logs\n",
      "miniconda3\n",
      "ntuser.dat.LOG1\n",
      "ntuser.dat.LOG2\n",
      "ntuser.ini\n",
      "project\n",
      "scikit_learn_data\n",
      "tensorflow_datasets\n",
      "welcome-to-docker\n",
      "РњРѕРё РґРѕРєСѓРјРµРЅС‚С‹\n",
      "РЁР°Р±Р»РѕРЅС‹\n",
      "РіР»Р°РІРЅРѕРµ РјРµРЅСЋ\n"
     ]
    }
   ],
   "source": [
    "!ls"
   ]
  },
  {
   "cell_type": "code",
   "execution_count": 61,
   "id": "59cc745b",
   "metadata": {},
   "outputs": [
    {
     "name": "stdout",
     "output_type": "stream",
     "text": [
      "log.txt\n"
     ]
    }
   ],
   "source": [
    "!ls logs"
   ]
  },
  {
   "cell_type": "markdown",
   "id": "152d0f7c",
   "metadata": {},
   "source": [
    "## Команда: tar\n",
    "### Справка:\n",
    "Команда tar используется для создания архивов и извлечения файлов из них. Она поддерживает различные форматы архивов, такие как .tar, .tar.gz, .tar.bz2. Команда также используется для сжатия и распаковки данных.\n",
    "\n",
    "### Пример использования:\n",
    "\n",
    "Создание архива:\n",
    "\n",
    "```\n",
    "tar -cvf archive_name.tar folder_name   # Создает архив archive_name.tar из папки folder_name\n",
    "tar -czvf archive_name.tar.gz folder_name   # Создает сжатый архив .tar.gz\n",
    "```\n",
    "Извлечение архива:\n",
    "\n",
    "```\n",
    "tar -xvf archive_name.tar    # Извлекает содержимое архива .tar\n",
    "tar -xzvf archive_name.tar.gz    # Извлекает содержимое сжатого архива .tar.gz\n",
    "```\n",
    "## Задание 17: Создание архива\n",
    "Создайте папку data_folder и добавьте в неё несколько файлов (например, file1.txt, file2.txt, file3.txt).\n",
    "Создайте архив data_folder.tar из папки data_folder.\n",
    "Убедитесь, что архив был создан.\n",
    "### Правильное решение:\n",
    "В Jupyter Notebook:\n",
    "\n",
    "```\n",
    "# 1. Создание папки и файлов внутри неё\n",
    "!mkdir data_folder\n",
    "!echo \"This is file 1\" > data_folder/file1.txt\n",
    "!echo \"This is file 2\" > data_folder/file2.txt\n",
    "!echo \"This is file 3\" > data_folder/file3.txt\n",
    "\n",
    "# 2. Создание архива\n",
    "!tar -cvf data_folder.tar data_folder\n",
    "\n",
    "# 3. Проверка, что архив был создан\n",
    "!ls\n",
    "\n",
    "```\n",
    "## Задание 18: Сжатие архива\n",
    "Используя команду tar, создайте сжатый архив data_folder.tar.gz из папки data_folder.\n",
    "Убедитесь, что сжатый архив был создан.\n",
    "### Правильное решение:\n",
    "В Jupyter Notebook:\n",
    "\n",
    "```\n",
    "# 1. Создание сжатого архива\n",
    "!tar -czvf data_folder.tar.gz data_folder\n",
    "\n",
    "# 2. Проверка, что сжатый архив был создан\n",
    "!ls\n",
    "```\n",
    "## Задание 19: Извлечение архива\n",
    "Создайте сжатый архив data_folder.tar.gz, как в задании 2.\n",
    "Извлеките содержимое архива в новую папку extracted_folder.\n",
    "Убедитесь, что содержимое архива извлечено в папку extracted_folder.\n",
    "### Правильное решение:\n",
    "В Jupyter Notebook:\n",
    "\n",
    "```\n",
    "# 1. Создание архива\n",
    "!tar -czvf data_folder.tar.gz data_folder\n",
    "\n",
    "# 2. Извлечение архива в новую папку\n",
    "!mkdir extracted_folder\n",
    "!tar -xzvf data_folder.tar.gz -C extracted_folder\n",
    "\n",
    "# 3. Проверка содержимого папки extracted_folder\n",
    "!ls extracted_folder\n",
    "```\n",
    "### Задание 20: Разархивирование нескольких архивов\n",
    "Создайте два архива: archive1.tar.gz и archive2.tar.gz, содержащие разные файлы (например, fileA.txt, fileB.txt в одном и fileC.txt, fileD.txt в другом).\n",
    "Извлеките оба архива в одну папку combined_folder.\n",
    "Убедитесь, что содержимое обоих архивов оказалось в папке combined_folder.\n",
    "### Правильное решение:\n",
    "В Jupyter Notebook:\n",
    "\n",
    "```\n",
    "# 1. Создание нескольких архивов\n",
    "!mkdir archive_test1\n",
    "!echo \"File A\" > archive_test1/fileA.txt\n",
    "!echo \"File B\" > archive_test1/fileB.txt\n",
    "!tar -czvf archive1.tar.gz archive_test1\n",
    "\n",
    "!mkdir archive_test2\n",
    "!echo \"File C\" > archive_test2/fileC.txt\n",
    "!echo \"File D\" > archive_test2/fileD.txt\n",
    "!tar -czvf archive2.tar.gz archive_test2\n",
    "\n",
    "# 2. Извлечение обоих архивов в одну папку\n",
    "!mkdir combined_folder\n",
    "!tar -xzvf archive1.tar.gz -C combined_folder\n",
    "!tar -xzvf archive2.tar.gz -C combined_folder\n",
    "\n",
    "# 3. Проверка содержимого папки combined_folder\n",
    "!ls combined_folder\n",
    "```"
   ]
  },
  {
   "cell_type": "markdown",
   "id": "19bc76b2",
   "metadata": {},
   "source": [
    "## Задание 21: Получение подробной информации о файле\n",
    "Создайте файл file1.txt и запишите в него текст Sample file for testing.\n",
    "Используйте команду ls -l, чтобы вывести подробную информацию о файле file1.txt.\n",
    "Убедитесь, что информация включает размер файла, дату создания и права доступа.\n",
    "### Правильное решение:\n",
    "В Jupyter Notebook:\n",
    "\n",
    "```\n",
    "# 1. Создание файла\n",
    "!echo \"Sample file for testing\" > file1.txt\n",
    "\n",
    "# 2. Вывод подробной информации о файле\n",
    "!ls -l file1.txt\n",
    "```"
   ]
  },
  {
   "cell_type": "code",
   "execution_count": 63,
   "id": "292e2ab4",
   "metadata": {},
   "outputs": [
    {
     "name": "stdout",
     "output_type": "stream",
     "text": [
      "-rw-r--r-- 1 monit 197609 28 Dec 25 13:14 file1.txt\n"
     ]
    }
   ],
   "source": [
    "!ls -l file1.txt"
   ]
  },
  {
   "cell_type": "markdown",
   "id": "23e4b141",
   "metadata": {},
   "source": [
    "## Задание 22: Получение информации о содержимом папки\n",
    "Создайте папку data_folder и добавьте в неё несколько файлов (например, file1.txt, file2.txt).\n",
    "Используйте команду ls -lh для получения подробной информации о содержимом папки data_folder.\n",
    "Убедитесь, что отображается информация о размере каждого файла и правах доступа.\n",
    "### Правильное решение:\n",
    "В Jupyter Notebook:\n",
    "\n",
    "```\n",
    "# 1. Создание папки и файлов\n",
    "!mkdir data_folder\n",
    "!echo \"This is file 1\" > data_folder/file1.txt\n",
    "!echo \"This is file 2\" > data_folder/file2.txt\n",
    "\n",
    "# 2. Вывод подробной информации о содержимом папки\n",
    "!ls -lh data_folder\n",
    "```"
   ]
  },
  {
   "cell_type": "code",
   "execution_count": 64,
   "id": "07d0c51c",
   "metadata": {},
   "outputs": [],
   "source": [
    "!mkdir data_folder\n",
    "!echo \"This is file 1\" > data_folder/file1.txt\n",
    "!echo \"This is file 2\" > data_folder/file2.txt"
   ]
  },
  {
   "cell_type": "code",
   "execution_count": 65,
   "id": "3ae0d0f3",
   "metadata": {},
   "outputs": [
    {
     "name": "stdout",
     "output_type": "stream",
     "text": [
      "total 2.0K\n",
      "-rw-r--r-- 1 monit 197609 19 Dec 25 13:18 file1.txt\n",
      "-rw-r--r-- 1 monit 197609 19 Dec 25 13:18 file2.txt\n"
     ]
    }
   ],
   "source": [
    "!ls -lh data_folder"
   ]
  },
  {
   "cell_type": "code",
   "execution_count": null,
   "id": "e5d36a32",
   "metadata": {},
   "outputs": [],
   "source": []
  }
 ],
 "metadata": {
  "kernelspec": {
   "display_name": "Python 3 (ipykernel)",
   "language": "python",
   "name": "python3"
  },
  "language_info": {
   "codemirror_mode": {
    "name": "ipython",
    "version": 3
   },
   "file_extension": ".py",
   "mimetype": "text/x-python",
   "name": "python",
   "nbconvert_exporter": "python",
   "pygments_lexer": "ipython3",
   "version": "3.12.7"
  }
 },
 "nbformat": 4,
 "nbformat_minor": 5
}
